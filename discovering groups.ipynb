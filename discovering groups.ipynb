{
 "cells": [
  {
   "cell_type": "markdown",
   "metadata": {
    "collapsed": true
   },
   "source": [
    ""
   ]
  },
  {
   "cell_type": "markdown",
   "metadata": {},
   "source": [
    "## 1.Counting the word in a Feed"
   ]
  },
  {
   "cell_type": "code",
   "execution_count": 1,
   "metadata": {},
   "outputs": [],
   "source": [
    "import feedparser\n",
    "import re"
   ]
  },
  {
   "cell_type": "code",
   "execution_count": null,
   "metadata": {},
   "outputs": [],
   "source": [
    "#返回一个rss订阅源的标题 和包含的单词计数情况的字典\n",
    "def getwordcounts(url):\n",
    "    #解析订阅源\n",
    "    d = feedparser.parse(url)\n",
    "    wc = {}\n",
    "    \n",
    "    #循环遍历所有的文章条目\n",
    "    for e in d.entries:\n",
    "        if 'summary' in e: summary = e.summary\n",
    "        else : summary = e.description\n",
    "        \n",
    "        #提取一个单词列表\n",
    "        words = getwords(e.title + '' + summary)\n",
    "        for word in words: #遍历所有单词\n",
    "            wc.setdefault(word,0) #初始化词典的key和value\n",
    "            wc[word] +=1  #单词的计数 +1\n",
    "    return d.feed.title,wc  #返回文章标题，单词次数的字典\n",
    "\n",
    "#提取字符\n",
    "def  getwords (html):\n",
    "    #去除所有HTML标记\n",
    "    txt = re.compile(r'<[^>]+>').sub('',html)\n",
    "    #利用所有非字母字符拆分出单词\n",
    "    words = re.compile(r'^[A-Z^a-z]+').split(txt)\n",
    "    #转化为小写\n",
    "    return [word.lower() for word in words if word!='']\n",
    "\n",
    "#feedlist.txt订阅源的URL\n",
    "\n",
    "apcount = { } #所有url的词频字典\n",
    "wordcounts = { } #每个url的词频字典 \n",
    "feedlist = [ line  for line in file('/data/feedlist.txt')]\n",
    "for feedurl in feedlist:\n",
    "    title,wc = getwordcounts(feedurl)\n",
    "    wordcounts[title] = wc #wordcounts{key:title,value:每个url的单词统计}\n",
    "    for word,count in wc.items():#遍历每个URL的单词和其次数\n",
    "        apcount.setdefault(word,0) #　生成总的统计字典\n",
    "        if count > 1:\n",
    "            apcount[word] += 1\n",
    "            \n",
    "#去除低频和高频词\n",
    "wordlist =[]\n",
    "for w,bc in apcount.items():\n",
    "    frac = float(bc)/len(feedlist) \n",
    "    if frac>0.1 and frac < 0.5 : wordlist.append(w)\n",
    "    \n",
    "\n",
    "#输出记录每个单词统计情况的文本\n",
    "out = file('/data/blogdata.txt','w')\n",
    "out.write('Blog')\n",
    "for word in wordlist:\n",
    "    out.write('\\t%s' % word)  #所有博客里单词的统计\n",
    "out.write('\\n')\n",
    "for blogtitle,wc in wordcounts.items():\n",
    "    out.write(blogtitle)\n",
    "    for word in wordlist:\n",
    "        if word in wc: out.write('\\t%d' % wc[word])\n",
    "        else : out.write('\\t0')\n",
    "    out.write('\\n')\n",
    "    "
   ]
  }
 ],
 "metadata": {
  "kernelspec": {
   "display_name": "Python 2",
   "language": "python",
   "name": "python2"
  },
  "language_info": {
   "codemirror_mode": {
    "name": "ipython",
    "version": 2.0
   },
   "file_extension": ".py",
   "mimetype": "text/x-python",
   "name": "python",
   "nbconvert_exporter": "python",
   "pygments_lexer": "ipython2",
   "version": "2.7.6"
  }
 },
 "nbformat": 4,
 "nbformat_minor": 0
}