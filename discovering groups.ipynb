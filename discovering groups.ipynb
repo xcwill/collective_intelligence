{
 "cells": [
  {
   "cell_type": "markdown",
   "metadata": {
    "collapsed": true
   },
   "source": [
    ""
   ]
  },
  {
   "cell_type": "markdown",
   "metadata": {},
   "source": [
    "## Counting the word in a Feed"
   ]
  },
  {
   "cell_type": "code",
   "execution_count": 1,
   "metadata": {},
   "outputs": [],
   "source": [
    "import feedparser\n",
    "import re"
   ]
  },
  {
   "cell_type": "code",
   "execution_count": null,
   "metadata": {},
   "outputs": [],
   "source": [
    "#返回一个rss订阅源的标题 和包含的单词计数情况的字典\n",
    "def getwordcount(url):\n",
    "    #解析订阅源\n",
    "    d = feedparser.parse(url)\n",
    "    wc = {}\n",
    "    \n",
    "    #循环遍历所有的文章条目\n",
    "    for e in d.entries:\n",
    "        if 'summary' in e: summary = e.summary\n",
    "        else : summary = e.description\n",
    "        \n",
    "        #提取一个单词列表\n",
    "        words = getwords(e.title + '' + summary)\n",
    "        for word in words:\n",
    "            wc.setdefault(word,0)\n",
    "            wc[word] +=1\n",
    "return \n",
    "\n"
   ]
  }
 ],
 "metadata": {
  "kernelspec": {
   "display_name": "Python 2",
   "language": "python",
   "name": "python2"
  },
  "language_info": {
   "codemirror_mode": {
    "name": "ipython",
    "version": 2.0
   },
   "file_extension": ".py",
   "mimetype": "text/x-python",
   "name": "python",
   "nbconvert_exporter": "python",
   "pygments_lexer": "ipython2",
   "version": "2.7.6"
  }
 },
 "nbformat": 4,
 "nbformat_minor": 0
}